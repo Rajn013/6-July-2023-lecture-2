{
 "cells": [
  {
   "cell_type": "markdown",
   "id": "9efc6f4e",
   "metadata": {},
   "source": [
    "1. Write a Python program to reverse a string without using any built-in string reversal functions.\n"
   ]
  },
  {
   "cell_type": "code",
   "execution_count": 7,
   "id": "38ee0beb",
   "metadata": {},
   "outputs": [
    {
     "name": "stdout",
     "output_type": "stream",
     "text": [
      "Original string: Hello, World!\n",
      "Reversed string: !dlroW ,olleH\n"
     ]
    }
   ],
   "source": [
    "def reverse_string(input_str):\n",
    "    reversed_str = \"\"\n",
    "    for char in input_str:\n",
    "        reversed_str = char + reversed_str\n",
    "    return reversed_str\n",
    "\n",
    "input_string = \"Hello, World!\"\n",
    "reversed_string = reverse_string(input_string)\n",
    "print(\"Original string:\", input_string)\n",
    "print(\"Reversed string:\", reversed_string)\n"
   ]
  },
  {
   "cell_type": "markdown",
   "id": "49d9cfe8",
   "metadata": {},
   "source": [
    "2. Implement a function to check if a given string is a palindrome.\n"
   ]
  },
  {
   "cell_type": "code",
   "execution_count": 8,
   "id": "5a4a97b3",
   "metadata": {},
   "outputs": [
    {
     "name": "stdout",
     "output_type": "stream",
     "text": [
      "racecar is a palindrome.\n"
     ]
    }
   ],
   "source": [
    "def is_palindrome(input_str):\n",
    "    return input_str == input_str[::-1]\n",
    "\n",
    "test_string = \"racecar\"\n",
    "if is_palindrome(test_string):\n",
    "    print(f\"{test_string} is a palindrome.\")\n",
    "else:\n",
    "    print(f\"{test_string} is not a palindrome.\")\n"
   ]
  },
  {
   "cell_type": "markdown",
   "id": "3d72504e",
   "metadata": {},
   "source": [
    "3. Write a program to find the largest element in a given list.\n"
   ]
  },
  {
   "cell_type": "code",
   "execution_count": 9,
   "id": "c8e77117",
   "metadata": {},
   "outputs": [
    {
     "name": "stdout",
     "output_type": "stream",
     "text": [
      "The largest number in the list is: 89\n"
     ]
    }
   ],
   "source": [
    "def find_largest_element(input_list):\n",
    "    if not input_list:\n",
    "        return None\n",
    "\n",
    "    largest_element = input_list[0]\n",
    "    for num in input_list[1:]:\n",
    "        if num > largest_element:\n",
    "            largest_element = num\n",
    "    return largest_element\n",
    "\n",
    "numbers = [23, 45, 67, 12, 89, 56, 34]\n",
    "largest_num = find_largest_element(numbers)\n",
    "print(\"The largest number in the list is:\", largest_num)\n"
   ]
  },
  {
   "cell_type": "markdown",
   "id": "b3cf14d2",
   "metadata": {},
   "source": [
    "4. Implement a function to count the occurrence of each element in a list.\n"
   ]
  },
  {
   "cell_type": "code",
   "execution_count": 4,
   "id": "959cb5fa",
   "metadata": {},
   "outputs": [
    {
     "name": "stdout",
     "output_type": "stream",
     "text": [
      "Occurrences of each element: {1: 2, 2: 3, 3: 2, 4: 2, 5: 3}\n"
     ]
    }
   ],
   "source": [
    "def count_occurrences(input_list):\n",
    "    occurrence_count = {}\n",
    "    for item in input_list:\n",
    "        occurrence_count[item] = occurrence_count.get(item, 0) + 1\n",
    "    return occurrence_count\n",
    "\n",
    "data_list = [1, 2, 3, 2, 1, 4, 5, 3, 2, 4, 5, 5]\n",
    "result = count_occurrences(data_list)\n",
    "print(\"Occurrences of each element:\", result)\n"
   ]
  },
  {
   "cell_type": "markdown",
   "id": "9925fa83",
   "metadata": {},
   "source": [
    "5. Write a Python program to find the second largest number in a list.\n"
   ]
  },
  {
   "cell_type": "code",
   "execution_count": 10,
   "id": "ecc378f3",
   "metadata": {},
   "outputs": [
    {
     "name": "stdout",
     "output_type": "stream",
     "text": [
      "The second largest number in the list is: 67\n"
     ]
    }
   ],
   "source": [
    "def find_second_largest(input_list):\n",
    "    if len(input_list) < 2:\n",
    "        return None\n",
    "\n",
    "    largest = second_largest = float('-inf')\n",
    "\n",
    "    for num in input_list:\n",
    "        if num > largest:\n",
    "            second_largest = largest\n",
    "            largest = num\n",
    "        elif num > second_largest and num != largest:\n",
    "            second_largest = num\n",
    "\n",
    "    return second_largest\n",
    "\n",
    "numbers = [23, 45, 67, 12, 89, 56, 34]\n",
    "second_largest_num = find_second_largest(numbers)\n",
    "print(\"The second largest number in the list is:\", second_largest_num)\n"
   ]
  },
  {
   "cell_type": "markdown",
   "id": "5b7ca795",
   "metadata": {},
   "source": [
    "6. Implement a function to remove duplicate elements from a list.\n"
   ]
  },
  {
   "cell_type": "code",
   "execution_count": 11,
   "id": "f4a02ed1",
   "metadata": {
    "scrolled": true
   },
   "outputs": [
    {
     "name": "stdout",
     "output_type": "stream",
     "text": [
      "List with duplicate elements removed: [1, 2, 3, 4, 5]\n"
     ]
    }
   ],
   "source": [
    "def remove_duplicates(input_list):\n",
    "    return list(set(input_list))\n",
    "\n",
    "data_list = [1, 2, 3, 2, 1, 4, 5, 3, 2, 4, 5, 5]\n",
    "result = remove_duplicates(data_list)\n",
    "print(\"List with duplicate elements removed:\", result)\n"
   ]
  },
  {
   "cell_type": "markdown",
   "id": "c47ba0cd",
   "metadata": {},
   "source": [
    "7. Write a program to calculate the factorial of a given number.\n"
   ]
  },
  {
   "cell_type": "code",
   "execution_count": 13,
   "id": "2f5d3bd0",
   "metadata": {},
   "outputs": [
    {
     "name": "stdout",
     "output_type": "stream",
     "text": [
      "Factorial of 5 is: 120\n"
     ]
    }
   ],
   "source": [
    "def factorial(n):\n",
    "    if n == 0 or n == 1:\n",
    "        return 1\n",
    "    else:\n",
    "        return n * factorial(n - 1)\n",
    "\n",
    "number = 5\n",
    "print(\"Factorial of\", number, \"is:\", factorial(number))\n"
   ]
  },
  {
   "cell_type": "markdown",
   "id": "8e6b57dc",
   "metadata": {},
   "source": [
    "8. Implement a function to check if a given number is prime.\n"
   ]
  },
  {
   "cell_type": "code",
   "execution_count": 14,
   "id": "5fccec9c",
   "metadata": {},
   "outputs": [
    {
     "name": "stdout",
     "output_type": "stream",
     "text": [
      "17 is a prime number.\n"
     ]
    }
   ],
   "source": [
    "def is_prime(number):\n",
    "    if number < 2:\n",
    "        return False\n",
    "    for i in range(2, int(number**0.5) + 1):\n",
    "        if number % i == 0:\n",
    "            return False\n",
    "    return True\n",
    "\n",
    "num = 17\n",
    "if is_prime(num):\n",
    "    print(num, \"is a prime number.\")\n",
    "else:\n",
    "    print(num, \"is not a prime number.\")\n"
   ]
  },
  {
   "cell_type": "markdown",
   "id": "104ab704",
   "metadata": {},
   "source": [
    "9. Write a Python program to sort a list of integers in ascending order.\n"
   ]
  },
  {
   "cell_type": "code",
   "execution_count": 15,
   "id": "6ba7c1b0",
   "metadata": {},
   "outputs": [
    {
     "name": "stdout",
     "output_type": "stream",
     "text": [
      "Sorted list: [12, 23, 34, 45, 56, 67, 89]\n"
     ]
    }
   ],
   "source": [
    "def ascending_sort(input_list):\n",
    "    return sorted(input_list)\n",
    "\n",
    "numbers = [23, 45, 67, 12, 89, 56, 34]\n",
    "sorted_numbers = ascending_sort(numbers)\n",
    "print(\"Sorted list:\", sorted_numbers)\n"
   ]
  },
  {
   "cell_type": "markdown",
   "id": "d8c59afd",
   "metadata": {},
   "source": [
    "10. Implement a function to find the sum of all numbers in a list.\n"
   ]
  },
  {
   "cell_type": "code",
   "execution_count": 16,
   "id": "3ab9e047",
   "metadata": {},
   "outputs": [
    {
     "name": "stdout",
     "output_type": "stream",
     "text": [
      "Sum of all numbers in the list: 15\n"
     ]
    }
   ],
   "source": [
    "def sum_of_list(input_list):\n",
    "    return sum(input_list)\n",
    "\n",
    "data_list = [1, 2, 3, 4, 5]\n",
    "total_sum = sum_of_list(data_list)\n",
    "print(\"Sum of all numbers in the list:\", total_sum)\n"
   ]
  },
  {
   "cell_type": "markdown",
   "id": "39b98e20",
   "metadata": {},
   "source": [
    "11. Write a program to find the common elements between two lists."
   ]
  },
  {
   "cell_type": "code",
   "execution_count": 18,
   "id": "7297564a",
   "metadata": {},
   "outputs": [
    {
     "name": "stdout",
     "output_type": "stream",
     "text": [
      "Common elements between the two lists: [3, 4, 5]\n"
     ]
    }
   ],
   "source": [
    "def find_common_elements(list1, list2):\n",
    "    return list(set(list1) & set(list2))\n",
    "\n",
    "\n",
    "list1 = [1, 2, 3, 4, 5]\n",
    "list2 = [3, 4, 5, 6, 7]\n",
    "common_elements = find_common_elements(list1, list2)\n",
    "print(\"Common elements between the two lists:\", common_elements)\n"
   ]
  },
  {
   "cell_type": "markdown",
   "id": "c6f60a38",
   "metadata": {},
   "source": [
    "12. Implement a function to check if a given string is an anagram of another string.\n"
   ]
  },
  {
   "cell_type": "code",
   "execution_count": 19,
   "id": "544fbe0f",
   "metadata": {},
   "outputs": [
    {
     "name": "stdout",
     "output_type": "stream",
     "text": [
      "listen and silent are anagrams.\n"
     ]
    }
   ],
   "source": [
    "def is_anagram(str1, str2):\n",
    "    return sorted(str1) == sorted(str2)\n",
    "\n",
    "\n",
    "string1 = \"listen\"\n",
    "string2 = \"silent\"\n",
    "if is_anagram(string1, string2):\n",
    "    print(f\"{string1} and {string2} are anagrams.\")\n",
    "else:\n",
    "    print(f\"{string1} and {string2} are not anagrams.\")\n"
   ]
  },
  {
   "cell_type": "markdown",
   "id": "342819da",
   "metadata": {},
   "source": [
    "13. Write a Python program to generate all permutations of a given string.\n"
   ]
  },
  {
   "cell_type": "code",
   "execution_count": 20,
   "id": "bbcef7d2",
   "metadata": {},
   "outputs": [
    {
     "name": "stdout",
     "output_type": "stream",
     "text": [
      "Permutations of the string: ['abc', 'acb', 'bac', 'bca', 'cab', 'cba']\n"
     ]
    }
   ],
   "source": [
    "def permutations(input_str):\n",
    "    if len(input_str) == 1:\n",
    "        return [input_str]\n",
    "\n",
    "    perms = []\n",
    "    for i, char in enumerate(input_str):\n",
    "        for perm in permutations(input_str[:i] + input_str[i + 1:]):\n",
    "            perms.append(char + perm)\n",
    "    return perms\n",
    "\n",
    "\n",
    "input_string = \"abc\"\n",
    "print(\"Permutations of the string:\", permutations(input_string))\n"
   ]
  },
  {
   "cell_type": "markdown",
   "id": "8b6128ef",
   "metadata": {},
   "source": [
    "14. Implement a function to calculate the Fibonacci sequence up to a given number of terms.\n"
   ]
  },
  {
   "cell_type": "code",
   "execution_count": 21,
   "id": "5498f58a",
   "metadata": {},
   "outputs": [
    {
     "name": "stdout",
     "output_type": "stream",
     "text": [
      "Fibonacci sequence up to 10 terms: [0, 1, 1, 2, 3, 5, 8, 13, 21, 34]\n"
     ]
    }
   ],
   "source": [
    "def fibonacci_sequence(n):\n",
    "    if n <= 0:\n",
    "        return []\n",
    "    elif n == 1:\n",
    "        return [0]\n",
    "    elif n == 2:\n",
    "        return [0, 1]\n",
    "\n",
    "    fib_seq = [0, 1]\n",
    "    for i in range(2, n):\n",
    "        fib_seq.append(fib_seq[-1] + fib_seq[-2])\n",
    "    return fib_seq\n",
    "\n",
    "terms = 10\n",
    "print(\"Fibonacci sequence up to\", terms, \"terms:\", fibonacci_sequence(terms))\n"
   ]
  },
  {
   "cell_type": "markdown",
   "id": "7b82740d",
   "metadata": {},
   "source": [
    "15. Write a program to find the median of a list of numbers.\n"
   ]
  },
  {
   "cell_type": "code",
   "execution_count": 22,
   "id": "b2ae4407",
   "metadata": {},
   "outputs": [
    {
     "name": "stdout",
     "output_type": "stream",
     "text": [
      "Median of the list: 45\n"
     ]
    }
   ],
   "source": [
    "def find_median(input_list):\n",
    "    sorted_list = sorted(input_list)\n",
    "    n = len(sorted_list)\n",
    "    if n % 2 == 0:\n",
    "        mid = n // 2\n",
    "        median = (sorted_list[mid - 1] + sorted_list[mid]) / 2\n",
    "    else:\n",
    "        mid = n // 2\n",
    "        median = sorted_list[mid]\n",
    "    return median\n",
    "\n",
    "\n",
    "data_list = [23, 45, 67, 12, 89, 56, 34]\n",
    "median_value = find_median(data_list)\n",
    "print(\"Median of the list:\", median_value)\n"
   ]
  },
  {
   "cell_type": "markdown",
   "id": "729a2fca",
   "metadata": {},
   "source": [
    "16. Implement a function to check if a given list is sorted in non-decreasing order.\n"
   ]
  },
  {
   "cell_type": "code",
   "execution_count": 23,
   "id": "3805565b",
   "metadata": {},
   "outputs": [
    {
     "name": "stdout",
     "output_type": "stream",
     "text": [
      "Median of the list: 45\n"
     ]
    }
   ],
   "source": [
    "def find_median(input_list):\n",
    "    sorted_list = sorted(input_list)\n",
    "    n = len(sorted_list)\n",
    "    if n % 2 == 0:\n",
    "        mid = n // 2\n",
    "        median = (sorted_list[mid - 1] + sorted_list[mid]) / 2\n",
    "    else:\n",
    "        mid = n // 2\n",
    "        median = sorted_list[mid]\n",
    "    return median\n",
    "\n",
    "\n",
    "data_list = [23, 45, 67, 12, 89, 56, 34]\n",
    "median_value = find_median(data_list)\n",
    "print(\"Median of the list:\", median_value)\n"
   ]
  },
  {
   "cell_type": "markdown",
   "id": "aaf24936",
   "metadata": {},
   "source": [
    "17. Write a Python program to find the intersection of two lists.\n"
   ]
  },
  {
   "cell_type": "code",
   "execution_count": 24,
   "id": "37681fab",
   "metadata": {},
   "outputs": [
    {
     "name": "stdout",
     "output_type": "stream",
     "text": [
      "Intersection of the two lists: [3, 4, 5]\n"
     ]
    }
   ],
   "source": [
    "def find_intersection(list1, list2):\n",
    "    return list(set(list1) & set(list2))\n",
    "\n",
    "\n",
    "list1 = [1, 2, 3, 4, 5]\n",
    "list2 = [3, 4, 5, 6, 7]\n",
    "intersection_result = find_intersection(list1, list2)\n",
    "print(\"Intersection of the two lists:\", intersection_result)\n"
   ]
  },
  {
   "cell_type": "markdown",
   "id": "676ccbbe",
   "metadata": {},
   "source": [
    "18. Implement a function to find the maximum subarray sum in a given list.\n"
   ]
  },
  {
   "cell_type": "code",
   "execution_count": 25,
   "id": "7486f9a7",
   "metadata": {},
   "outputs": [
    {
     "name": "stdout",
     "output_type": "stream",
     "text": [
      "Maximum subarray sum: 6\n"
     ]
    }
   ],
   "source": [
    "def max_subarray_sum(input_list):\n",
    "    max_sum = current_sum = input_list[0]\n",
    "\n",
    "    for num in input_list[1:]:\n",
    "        current_sum = max(num, current_sum + num)\n",
    "        max_sum = max(max_sum, current_sum)\n",
    "\n",
    "    return max_sum\n",
    "\n",
    "\n",
    "data_list = [-2, 1, -3, 4, -1, 2, 1, -5, 4]\n",
    "max_sum = max_subarray_sum(data_list)\n",
    "print(\"Maximum subarray sum:\", max_sum)\n"
   ]
  },
  {
   "cell_type": "markdown",
   "id": "41703f87",
   "metadata": {},
   "source": [
    "19. Write a program to remove all vowels from a given string.\n"
   ]
  },
  {
   "cell_type": "code",
   "execution_count": 26,
   "id": "0b9f4e82",
   "metadata": {},
   "outputs": [
    {
     "name": "stdout",
     "output_type": "stream",
     "text": [
      "String after removing vowels: Hll, Wrld!\n"
     ]
    }
   ],
   "source": [
    "def remove_vowels(input_str):\n",
    "    vowels = \"aeiouAEIOU\"\n",
    "    return \"\".join(char for char in input_str if char not in vowels)\n",
    "\n",
    "input_string = \"Hello, World!\"\n",
    "result_string = remove_vowels(input_string)\n",
    "print(\"String after removing vowels:\", result_string)\n"
   ]
  },
  {
   "cell_type": "markdown",
   "id": "9bf7e882",
   "metadata": {},
   "source": [
    "20. Implement a function to reverse the order of words in a given sentence.\n"
   ]
  },
  {
   "cell_type": "code",
   "execution_count": 27,
   "id": "4387a021",
   "metadata": {},
   "outputs": [
    {
     "name": "stdout",
     "output_type": "stream",
     "text": [
      "Reversed sentence: you? are How World! Hello,\n"
     ]
    }
   ],
   "source": [
    "def reverse_words(sentence):\n",
    "    words = sentence.split()\n",
    "    return \" \".join(words[::-1])\n",
    "\n",
    "\n",
    "input_sentence = \"Hello, World! How are you?\"\n",
    "reversed_sentence = reverse_words(input_sentence)\n",
    "print(\"Reversed sentence:\", reversed_sentence)\n"
   ]
  },
  {
   "cell_type": "markdown",
   "id": "bf4afe95",
   "metadata": {},
   "source": [
    "21. Write a Python program to check if two strings are anagrams of each other.\n"
   ]
  },
  {
   "cell_type": "code",
   "execution_count": 29,
   "id": "e48ce828",
   "metadata": {},
   "outputs": [
    {
     "name": "stdout",
     "output_type": "stream",
     "text": [
      "listen and silent are anagrams.\n"
     ]
    }
   ],
   "source": [
    "def are_anagrams(str1, str2):\n",
    "    return sorted(str1) == sorted(str2)\n",
    "\n",
    "\n",
    "string1 = \"listen\"\n",
    "string2 = \"silent\"\n",
    "if are_anagrams(string1, string2):\n",
    "    print(f\"{string1} and {string2} are anagrams.\")\n",
    "else:\n",
    "    print(f\"{string1} and {string2} are not anagrams.\")\n"
   ]
  },
  {
   "cell_type": "markdown",
   "id": "c59fb870",
   "metadata": {},
   "source": [
    "22. Implement a function to find the first non-repeating character in a string.\n"
   ]
  },
  {
   "cell_type": "code",
   "execution_count": 30,
   "id": "4138f5f0",
   "metadata": {},
   "outputs": [
    {
     "name": "stdout",
     "output_type": "stream",
     "text": [
      "First non-repeating character: c\n"
     ]
    }
   ],
   "source": [
    "def first_non_repeating_char(input_str):\n",
    "    char_count = {}\n",
    "    for char in input_str:\n",
    "        char_count[char] = char_count.get(char, 0) + 1\n",
    "\n",
    "    for char in input_str:\n",
    "        if char_count[char] == 1:\n",
    "            return char\n",
    "    return None\n",
    "\n",
    "input_string = \"abracadabra\"\n",
    "result_char = first_non_repeating_char(input_string)\n",
    "print(\"First non-repeating character:\", result_char)\n"
   ]
  },
  {
   "cell_type": "markdown",
   "id": "cad8743f",
   "metadata": {},
   "source": [
    "23. Write a program to find the prime factors of a given number.\n"
   ]
  },
  {
   "cell_type": "code",
   "execution_count": 31,
   "id": "2f365889",
   "metadata": {},
   "outputs": [
    {
     "name": "stdout",
     "output_type": "stream",
     "text": [
      "Prime factors of 84 are: [2, 2, 3, 7]\n"
     ]
    }
   ],
   "source": [
    "def prime_factors(n):\n",
    "    factors = []\n",
    "    divisor = 2\n",
    "\n",
    "    while n > 1:\n",
    "        while n % divisor == 0:\n",
    "            factors.append(divisor)\n",
    "            n //= divisor\n",
    "        divisor += 1\n",
    "\n",
    "    return factors\n",
    "\n",
    "number = 84\n",
    "print(\"Prime factors of\", number, \"are:\", prime_factors(number))\n"
   ]
  },
  {
   "cell_type": "markdown",
   "id": "608378df",
   "metadata": {},
   "source": [
    "24. Implement a function to check if a given number is a power of two.\n"
   ]
  },
  {
   "cell_type": "code",
   "execution_count": 32,
   "id": "f86ed1a5",
   "metadata": {},
   "outputs": [
    {
     "name": "stdout",
     "output_type": "stream",
     "text": [
      "16 is a power of two: True\n",
      "20 is a power of two: False\n"
     ]
    }
   ],
   "source": [
    "def is_power_of_two(number):\n",
    "    return number > 0 and (number & (number - 1)) == 0\n",
    "\n",
    "\n",
    "num1 = 16\n",
    "num2 = 20\n",
    "print(num1, \"is a power of two:\", is_power_of_two(num1))\n",
    "print(num2, \"is a power of two:\", is_power_of_two(num2))\n"
   ]
  },
  {
   "cell_type": "markdown",
   "id": "d0d0754e",
   "metadata": {},
   "source": [
    "25. Write a Python program to merge two sorted lists into a single sorted list.\n"
   ]
  },
  {
   "cell_type": "code",
   "execution_count": 33,
   "id": "83e7e378",
   "metadata": {},
   "outputs": [
    {
     "name": "stdout",
     "output_type": "stream",
     "text": [
      "Merged sorted list: [1, 2, 3, 4, 5, 6, 7, 8]\n"
     ]
    }
   ],
   "source": [
    "def merge_sorted_lists(list1, list2):\n",
    "    merged_list = []\n",
    "    i = j = 0\n",
    "\n",
    "    while i < len(list1) and j < len(list2):\n",
    "        if list1[i] < list2[j]:\n",
    "            merged_list.append(list1[i])\n",
    "            i += 1\n",
    "        else:\n",
    "            merged_list.append(list2[j])\n",
    "            j += 1\n",
    "\n",
    "    merged_list.extend(list1[i:])\n",
    "    merged_list.extend(list2[j:])\n",
    "    return merged_list\n",
    "\n",
    "\n",
    "list1 = [1, 3, 5, 7]\n",
    "list2 = [2, 4, 6, 8]\n",
    "result_list = merge_sorted_lists(list1, list2)\n",
    "print(\"Merged sorted list:\", result_list)\n"
   ]
  },
  {
   "cell_type": "markdown",
   "id": "e9839e3d",
   "metadata": {},
   "source": [
    "26. Implement a function to find the mode of a list of numbers.\n"
   ]
  },
  {
   "cell_type": "code",
   "execution_count": 35,
   "id": "089a9890",
   "metadata": {},
   "outputs": [
    {
     "name": "stdout",
     "output_type": "stream",
     "text": [
      "Mode(s) of the list: [2, 5]\n"
     ]
    }
   ],
   "source": [
    "from collections import Counter\n",
    "\n",
    "def find_mode(input_list):\n",
    "    count = Counter(input_list)\n",
    "    max_count = max(count.values())\n",
    "    return [num for num, freq in count.items() if freq == max_count]\n",
    "\n",
    "\n",
    "data_list = [1, 2, 3, 2, 1, 4, 5, 3, 2, 4, 5, 5]\n",
    "mode_list = find_mode(data_list)\n",
    "print(\"Mode(s) of the list:\", mode_list)\n"
   ]
  },
  {
   "cell_type": "markdown",
   "id": "15fbaa32",
   "metadata": {},
   "source": [
    "27. Write a program to find the greatest common divisor (GCD) of two numbers.\n"
   ]
  },
  {
   "cell_type": "code",
   "execution_count": 37,
   "id": "6bc8a76e",
   "metadata": {},
   "outputs": [
    {
     "name": "stdout",
     "output_type": "stream",
     "text": [
      "Greatest common divisor of 48 and 18 is: 6\n"
     ]
    }
   ],
   "source": [
    "def gcd(a, b):\n",
    "    while b != 0:\n",
    "        a, b = b, a % b\n",
    "    return a\n",
    "\n",
    "\n",
    "num1, num2 = 48, 18\n",
    "result_gcd = gcd(num1, num2)\n",
    "print(\"Greatest common divisor of\", num1, \"and\", num2, \"is:\", result_gcd)\n"
   ]
  },
  {
   "cell_type": "markdown",
   "id": "86fdc0ed",
   "metadata": {},
   "source": [
    "28. Implement a function to calculate the square root of a given number.\n"
   ]
  },
  {
   "cell_type": "code",
   "execution_count": 39,
   "id": "5dfe1980",
   "metadata": {},
   "outputs": [
    {
     "name": "stdout",
     "output_type": "stream",
     "text": [
      "Square root of 25 is: 5\n"
     ]
    }
   ],
   "source": [
    "def square_root(number):\n",
    "    if number < 0:\n",
    "        raise ValueError(\"Square root is not defined for negative numbers.\")\n",
    "    \n",
    "    if number == 0:\n",
    "        return 0\n",
    "\n",
    "    x = number\n",
    "    y = 1\n",
    "    while x > y:\n",
    "        x = (x + y) // 2\n",
    "        y = number // x\n",
    "    return x\n",
    "\n",
    "\n",
    "num = 25\n",
    "result_sqrt = square_root(num)\n",
    "print(\"Square root of\", num, \"is:\", result_sqrt)\n"
   ]
  },
  {
   "cell_type": "markdown",
   "id": "15f36bc4",
   "metadata": {},
   "source": [
    "29. Write a Python program to check if a given string is a valid palindrome ignoring non-alphanumeric characters.\n"
   ]
  },
  {
   "cell_type": "code",
   "execution_count": 40,
   "id": "5a73b997",
   "metadata": {},
   "outputs": [
    {
     "name": "stdout",
     "output_type": "stream",
     "text": [
      "A man, a plan, a canal: Panama is a valid palindrome.\n"
     ]
    }
   ],
   "source": [
    "import re\n",
    "\n",
    "def is_valid_palindrome(input_str):\n",
    "    alphanumeric_str = re.sub(r'[^a-zA-Z0-9]', '', input_str).lower()\n",
    "    return alphanumeric_str == alphanumeric_str[::-1]\n",
    "\n",
    "\n",
    "test_string = \"A man, a plan, a canal: Panama\"\n",
    "if is_valid_palindrome(test_string):\n",
    "    print(f\"{test_string} is a valid palindrome.\")\n",
    "else:\n",
    "    print(f\"{test_string} is not a valid palindrome.\")\n"
   ]
  },
  {
   "cell_type": "markdown",
   "id": "62b7689b",
   "metadata": {},
   "source": [
    "30. Implement a function to find the minimum element in a rotated sorted list.\n"
   ]
  },
  {
   "cell_type": "code",
   "execution_count": 41,
   "id": "11d5d9d4",
   "metadata": {},
   "outputs": [
    {
     "name": "stdout",
     "output_type": "stream",
     "text": [
      "A man, a plan, a canal: Panama is a valid palindrome.\n"
     ]
    }
   ],
   "source": [
    "import re\n",
    "\n",
    "def is_valid_palindrome(input_str):\n",
    "    alphanumeric_str = re.sub(r'[^a-zA-Z0-9]', '', input_str).lower()\n",
    "    return alphanumeric_str == alphanumeric_str[::-1]\n",
    "\n",
    "\n",
    "test_string = \"A man, a plan, a canal: Panama\"\n",
    "if is_valid_palindrome(test_string):\n",
    "    print(f\"{test_string} is a valid palindrome.\")\n",
    "else:\n",
    "    print(f\"{test_string} is not a valid palindrome.\")\n"
   ]
  },
  {
   "cell_type": "markdown",
   "id": "ba1b42f0",
   "metadata": {},
   "source": [
    "31. Write a program to find the sum of all even numbers in a list.\n"
   ]
  },
  {
   "cell_type": "code",
   "execution_count": 42,
   "id": "a9467b02",
   "metadata": {},
   "outputs": [
    {
     "name": "stdout",
     "output_type": "stream",
     "text": [
      "Sum of even numbers in the list: 30\n"
     ]
    }
   ],
   "source": [
    "def sum_of_even_numbers(input_list):\n",
    "    return sum(num for num in input_list if num % 2 == 0)\n",
    "\n",
    "numbers = [1, 2, 3, 4, 5, 6, 7, 8, 9, 10]\n",
    "even_sum = sum_of_even_numbers(numbers)\n",
    "print(\"Sum of even numbers in the list:\", even_sum)\n"
   ]
  },
  {
   "cell_type": "markdown",
   "id": "2915c0f9",
   "metadata": {},
   "source": [
    "32. Implement a function to calculate the power of a number using recursion.\n"
   ]
  },
  {
   "cell_type": "code",
   "execution_count": 43,
   "id": "22c0eb08",
   "metadata": {},
   "outputs": [
    {
     "name": "stdout",
     "output_type": "stream",
     "text": [
      "2 raised to the power of 5 is: 32\n"
     ]
    }
   ],
   "source": [
    "def power(base, exponent):\n",
    "    if exponent == 0:\n",
    "        return 1\n",
    "    return base * power(base, exponent - 1)\n",
    "\n",
    "base_num, exponent = 2, 5\n",
    "result_power = power(base_num, exponent)\n",
    "print(f\"{base_num} raised to the power of {exponent} is:\", result_power)\n"
   ]
  },
  {
   "cell_type": "markdown",
   "id": "2be708b9",
   "metadata": {},
   "source": [
    "33. Write a Python program to remove duplicates from a list while preserving the order.\n"
   ]
  },
  {
   "cell_type": "code",
   "execution_count": 44,
   "id": "dd9d3002",
   "metadata": {},
   "outputs": [
    {
     "name": "stdout",
     "output_type": "stream",
     "text": [
      "List with duplicates removed: [1, 2, 3, 4, 5]\n"
     ]
    }
   ],
   "source": [
    "def remove_duplicates_preserve_order(input_list):\n",
    "    seen = set()\n",
    "    return [num for num in input_list if not (num in seen or seen.add(num))]\n",
    "\n",
    "data_list = [1, 2, 3, 2, 1, 4, 5, 3, 2, 4, 5, 5]\n",
    "result_list = remove_duplicates_preserve_order(data_list)\n",
    "print(\"List with duplicates removed:\", result_list)\n"
   ]
  },
  {
   "cell_type": "markdown",
   "id": "eaaeb5b5",
   "metadata": {},
   "source": [
    "34. Implement a function to find the longest common prefix among a list of strings.\n"
   ]
  },
  {
   "cell_type": "code",
   "execution_count": 47,
   "id": "2023854d",
   "metadata": {},
   "outputs": [
    {
     "name": "stdout",
     "output_type": "stream",
     "text": [
      "Longest common prefix: fl\n"
     ]
    }
   ],
   "source": [
    "def longest_common_prefix(strs):\n",
    "    if not strs:\n",
    "        return \"\"\n",
    "\n",
    "    prefix = strs[0]\n",
    "    for string in strs[1:]:\n",
    "        i = 0\n",
    "        while i < len(prefix) and i < len(string) and prefix[i] == string[i]:\n",
    "            i += 1\n",
    "        prefix = prefix[:i]\n",
    "\n",
    "    return prefix\n",
    "\n",
    "strings = [\"flower\", \"flow\", \"flight\"]\n",
    "common_prefix = longest_common_prefix(strings)\n",
    "print(\"Longest common prefix:\", common_prefix)\n"
   ]
  },
  {
   "cell_type": "markdown",
   "id": "1d24ea42",
   "metadata": {},
   "source": [
    "35. Write a program to check if a given number is a perfect square.\n"
   ]
  },
  {
   "cell_type": "code",
   "execution_count": 49,
   "id": "a03f3824",
   "metadata": {},
   "outputs": [
    {
     "name": "stdout",
     "output_type": "stream",
     "text": [
      "16 is a perfect square.\n"
     ]
    }
   ],
   "source": [
    "def is_perfect_square(num):\n",
    "    if num < 0:\n",
    "        return False\n",
    "    root = int(num ** 0.5)\n",
    "    return root * root == num\n",
    "\n",
    "number = 16\n",
    "if is_perfect_square(number):\n",
    "    print(f\"{number} is a perfect square.\")\n",
    "else:\n",
    "    print(f\"{number} is not a perfect square.\")\n"
   ]
  },
  {
   "cell_type": "markdown",
   "id": "7958d308",
   "metadata": {},
   "source": [
    "36. Implement a function to calculate the product of all elements in a list.\n"
   ]
  },
  {
   "cell_type": "code",
   "execution_count": 50,
   "id": "e37fdd45",
   "metadata": {},
   "outputs": [
    {
     "name": "stdout",
     "output_type": "stream",
     "text": [
      "Product of all elements in the list: 120\n"
     ]
    }
   ],
   "source": [
    "from functools import reduce\n",
    "\n",
    "def product_of_list(input_list):\n",
    "    return reduce(lambda x, y: x * y, input_list, 1)\n",
    "\n",
    "\n",
    "data_list = [1, 2, 3, 4, 5]\n",
    "result_product = product_of_list(data_list)\n",
    "print(\"Product of all elements in the list:\", result_product)\n"
   ]
  },
  {
   "cell_type": "markdown",
   "id": "71152e13",
   "metadata": {},
   "source": [
    "37. Write a Python program to reverse the order of words in a sentence while preserving the word order.\n"
   ]
  },
  {
   "cell_type": "code",
   "execution_count": 51,
   "id": "5179e780",
   "metadata": {},
   "outputs": [
    {
     "name": "stdout",
     "output_type": "stream",
     "text": [
      "Reversed sentence: you? are How World! Hello,\n"
     ]
    }
   ],
   "source": [
    "def reverse_sentence(sentence):\n",
    "    return \" \".join(sentence.split()[::-1])\n",
    "\n",
    "\n",
    "input_sentence = \"Hello, World! How are you?\"\n",
    "reversed_sentence = reverse_sentence(input_sentence)\n",
    "print(\"Reversed sentence:\", reversed_sentence)\n"
   ]
  },
  {
   "cell_type": "markdown",
   "id": "186c7c2c",
   "metadata": {},
   "source": [
    "38. Implement a function to find the missing number in a given list of consecutive numbers.\n"
   ]
  },
  {
   "cell_type": "code",
   "execution_count": null,
   "id": "bf4d07fd",
   "metadata": {},
   "outputs": [],
   "source": [
    "def find_missing_number(consecutive_list):\n",
    "    n = len(consecutive_list)\n",
    "    total_sum = (n + 1) * (n + 2) // 2\n",
    "    actual_sum = sum(consecutive_list)\n",
    "    return total_sum - actual_sum\n",
    "\n",
    "numbers = [1, 2, 3, 5, 6]\n",
    "missing_number = find_missing_number(numbers)\n",
    "print(\"Missing number in the list:\", missing_number)\n"
   ]
  },
  {
   "cell_type": "markdown",
   "id": "6b910164",
   "metadata": {},
   "source": [
    "39. Write a program to find the sum of digits of a given number.\n"
   ]
  },
  {
   "cell_type": "code",
   "execution_count": 53,
   "id": "941d2256",
   "metadata": {},
   "outputs": [
    {
     "name": "stdout",
     "output_type": "stream",
     "text": [
      "Sum of digits of 12345 is: 15\n"
     ]
    }
   ],
   "source": [
    "def sum_of_digits(number):\n",
    "    return sum(int(digit) for digit in str(abs(number)))\n",
    "\n",
    "\n",
    "num = 12345\n",
    "sum_digits = sum_of_digits(num)\n",
    "print(\"Sum of digits of\", num, \"is:\", sum_digits)\n"
   ]
  },
  {
   "cell_type": "markdown",
   "id": "a37fa07a",
   "metadata": {},
   "source": [
    "40. Implement a function to check if a given string is a valid palindrome considering case sensitivity.\n"
   ]
  },
  {
   "cell_type": "code",
   "execution_count": 54,
   "id": "a084b503",
   "metadata": {},
   "outputs": [
    {
     "name": "stdout",
     "output_type": "stream",
     "text": [
      "Racecar is not a valid palindrome.\n"
     ]
    }
   ],
   "source": [
    "def is_valid_palindrome_case_sensitive(input_str):\n",
    "    return input_str == input_str[::-1]\n",
    "\n",
    "test_string = \"Racecar\"\n",
    "if is_valid_palindrome_case_sensitive(test_string):\n",
    "    print(f\"{test_string} is a valid palindrome.\")\n",
    "else:\n",
    "    print(f\"{test_string} is not a valid palindrome.\")\n"
   ]
  },
  {
   "cell_type": "markdown",
   "id": "2ef4a320",
   "metadata": {},
   "source": [
    "41. Write a Python program to find the smallest missing positive integer in a list.\n"
   ]
  },
  {
   "cell_type": "code",
   "execution_count": 55,
   "id": "b721b7a4",
   "metadata": {},
   "outputs": [
    {
     "name": "stdout",
     "output_type": "stream",
     "text": [
      "Smallest missing positive integer: 2\n"
     ]
    }
   ],
   "source": [
    "def smallest_missing_positive_integer(nums):\n",
    "    nums_set = set(nums)\n",
    "    for i in range(1, len(nums) + 2):\n",
    "        if i not in nums_set:\n",
    "            return i\n",
    "\n",
    "numbers = [3, 4, -1, 1]\n",
    "missing_integer = smallest_missing_positive_integer(numbers)\n",
    "print(\"Smallest missing positive integer:\", missing_integer)\n"
   ]
  },
  {
   "cell_type": "markdown",
   "id": "e325dd9c",
   "metadata": {},
   "source": [
    "42. Implement a function to find the longest palindrome substring in a given string.\n"
   ]
  },
  {
   "cell_type": "code",
   "execution_count": 56,
   "id": "add51f89",
   "metadata": {},
   "outputs": [
    {
     "name": "stdout",
     "output_type": "stream",
     "text": [
      "Longest palindrome substring: bab\n"
     ]
    }
   ],
   "source": [
    "def longest_palindrome_substring(input_str):\n",
    "    longest_substring = \"\"\n",
    "    for i in range(len(input_str)):\n",
    "        for j in range(i + 1, len(input_str) + 1):\n",
    "            substring = input_str[i:j]\n",
    "            if substring == substring[::-1] and len(substring) > len(longest_substring):\n",
    "                longest_substring = substring\n",
    "    return longest_substring\n",
    "\n",
    "test_string = \"babad\"\n",
    "result_substring = longest_palindrome_substring(test_string)\n",
    "print(\"Longest palindrome substring:\", result_substring)\n"
   ]
  },
  {
   "cell_type": "markdown",
   "id": "7943c1fd",
   "metadata": {},
   "source": [
    "43. Write a program to find the number of occurrences of a given element in a list.\n"
   ]
  },
  {
   "cell_type": "code",
   "execution_count": 57,
   "id": "e080b41f",
   "metadata": {},
   "outputs": [
    {
     "name": "stdout",
     "output_type": "stream",
     "text": [
      "Longest palindrome substring: bab\n"
     ]
    }
   ],
   "source": [
    "def longest_palindrome_substring(input_str):\n",
    "    longest_substring = \"\"\n",
    "    for i in range(len(input_str)):\n",
    "        for j in range(i + 1, len(input_str) + 1):\n",
    "            substring = input_str[i:j]\n",
    "            if substring == substring[::-1] and len(substring) > len(longest_substring):\n",
    "                longest_substring = substring\n",
    "    return longest_substring\n",
    "\n",
    "\n",
    "test_string = \"babad\"\n",
    "result_substring = longest_palindrome_substring(test_string)\n",
    "print(\"Longest palindrome substring:\", result_substring)\n"
   ]
  },
  {
   "cell_type": "markdown",
   "id": "724fce2e",
   "metadata": {},
   "source": [
    "44. Implement a function to check if a given number is a perfect number.\n"
   ]
  },
  {
   "cell_type": "code",
   "execution_count": 58,
   "id": "b2e7fba7",
   "metadata": {},
   "outputs": [
    {
     "name": "stdout",
     "output_type": "stream",
     "text": [
      "Occurrences of 2 in the list: 3\n"
     ]
    }
   ],
   "source": [
    "def count_occurrences(input_list, element):\n",
    "    return input_list.count(element)\n",
    "\n",
    "\n",
    "data_list = [1, 2, 3, 2, 1, 4, 5, 3, 2, 4, 5, 5]\n",
    "element_to_count = 2\n",
    "occurrence_count = count_occurrences(data_list, element_to_count)\n",
    "print(\"Occurrences of\", element_to_count, \"in the list:\", occurrence_count)\n"
   ]
  },
  {
   "cell_type": "markdown",
   "id": "b6416af7",
   "metadata": {},
   "source": [
    "45. Write a Python program to remove all duplicates from a string.\n"
   ]
  },
  {
   "cell_type": "code",
   "execution_count": 59,
   "id": "7c681d90",
   "metadata": {},
   "outputs": [
    {
     "name": "stdout",
     "output_type": "stream",
     "text": [
      "28 is a perfect number.\n"
     ]
    }
   ],
   "source": [
    "def is_perfect_number(num):\n",
    "    if num <= 0:\n",
    "        return False\n",
    "    divisors_sum = sum(i for i in range(1, num // 2 + 1) if num % i == 0)\n",
    "    return divisors_sum == num\n",
    "\n",
    "number = 28\n",
    "if is_perfect_number(number):\n",
    "    print(f\"{number} is a perfect number.\")\n",
    "else:\n",
    "    print(f\"{number} is not a perfect number.\")\n"
   ]
  },
  {
   "cell_type": "markdown",
   "id": "ad8b8ad5",
   "metadata": {},
   "source": [
    "46. Implement a function to find the first missing positive\n"
   ]
  },
  {
   "cell_type": "code",
   "execution_count": 62,
   "id": "e036d4d3",
   "metadata": {},
   "outputs": [
    {
     "name": "stdout",
     "output_type": "stream",
     "text": [
      "String after removing duplicates: abrcd\n"
     ]
    }
   ],
   "source": [
    "def remove_duplicates_from_string(input_str):\n",
    "    result_str = \"\"\n",
    "    for char in input_str:\n",
    "        if char not in result_str:\n",
    "            result_str += char\n",
    "    return result_str\n",
    "\n",
    "\n",
    "input_string = \"abracadabra\"\n",
    "result_string = remove_duplicates_from_string(input_string)\n",
    "print(\"String after removing duplicates:\", result_string)\n"
   ]
  },
  {
   "cell_type": "code",
   "execution_count": null,
   "id": "b47cfbe7",
   "metadata": {},
   "outputs": [],
   "source": []
  }
 ],
 "metadata": {
  "kernelspec": {
   "display_name": "Python 3 (ipykernel)",
   "language": "python",
   "name": "python3"
  },
  "language_info": {
   "codemirror_mode": {
    "name": "ipython",
    "version": 3
   },
   "file_extension": ".py",
   "mimetype": "text/x-python",
   "name": "python",
   "nbconvert_exporter": "python",
   "pygments_lexer": "ipython3",
   "version": "3.9.12"
  }
 },
 "nbformat": 4,
 "nbformat_minor": 5
}
